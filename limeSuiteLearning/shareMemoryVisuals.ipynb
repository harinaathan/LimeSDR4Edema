{
 "cells": [
  {
   "cell_type": "code",
   "execution_count": null,
   "id": "9b1a772c",
   "metadata": {},
   "outputs": [],
   "source": [
    "import mmap\n",
    "import numpy as np\n",
    "import matplotlib.pyplot as plt\n",
    "import os\n",
    "import fcntl\n",
    "import time\n",
    "\n",
    "# Shared memory name\n",
    "shm_name = \"/rx_samples_shm\"\n",
    "\n",
    "# Open shared memory with retry\n",
    "shm_fd = None\n",
    "while shm_fd is None:\n",
    "    try:\n",
    "        shm_fd = os.open(shm_name, os.O_RDONLY)\n",
    "    except FileNotFoundError:\n",
    "        print(f\"Waiting for shared memory {shm_name} to be created...\")\n",
    "        time.sleep(0.1)  # Wait 100ms before retrying\n",
    "\n",
    "# Map shared memory\n",
    "shm = mmap.mmap(shm_fd, 1024 * 4, mmap.MAP_SHARED, mmap.PROT_READ)  # 1024 floats\n",
    "\n",
    "# Set up real-time plotting\n",
    "plt.ion()  # Turn on interactive mode\n",
    "fig, ax = plt.subplots(figsize=(10, 6))\n",
    "line, = ax.plot([], [], label=\"Received Samples\")\n",
    "ax.set_title(\"Real-Time Received Signal Samples\")\n",
    "ax.set_xlabel(\"Sample Index\")\n",
    "ax.set_ylabel(\"Amplitude\")\n",
    "ax.grid(True)\n",
    "ax.legend()\n",
    "\n",
    "# Continuously read from shared memory\n",
    "try:\n",
    "    while True:\n",
    "        # Read samples from shared memory\n",
    "        shm.seek(0)\n",
    "        samples = np.frombuffer(shm.read(1024 * 4), dtype=np.float32)\n",
    "\n",
    "        # Update plot\n",
    "        line.set_xdata(np.arange(len(samples)))\n",
    "        line.set_ydata(samples)\n",
    "        ax.relim()\n",
    "        ax.autoscale_view()\n",
    "        plt.draw()\n",
    "        plt.pause(0.01)  # Brief pause to allow plot update\n",
    "\n",
    "        time.sleep(0.01)  # Avoid busy-waiting\n",
    "except KeyboardInterrupt:\n",
    "    print(\"Stopping plotter...\")\n",
    "finally:\n",
    "    # Cleanup\n",
    "    shm.close()\n",
    "    os.close(shm_fd)"
   ]
  }
 ],
 "metadata": {
  "kernelspec": {
   "display_name": ".venv",
   "language": "python",
   "name": "python3"
  },
  "language_info": {
   "codemirror_mode": {
    "name": "ipython",
    "version": 3
   },
   "file_extension": ".py",
   "mimetype": "text/x-python",
   "name": "python",
   "nbconvert_exporter": "python",
   "pygments_lexer": "ipython3",
   "version": "3.11.12"
  }
 },
 "nbformat": 4,
 "nbformat_minor": 5
}
