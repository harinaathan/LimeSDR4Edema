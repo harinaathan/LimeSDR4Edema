{
 "cells": [
  {
   "cell_type": "code",
   "execution_count": 1,
   "id": "b05c77f5",
   "metadata": {},
   "outputs": [],
   "source": [
    "from pyLMS7002Soapy import *"
   ]
  },
  {
   "cell_type": "code",
   "execution_count": 4,
   "id": "ae5dc7b9",
   "metadata": {},
   "outputs": [
    {
     "name": "stdout",
     "output_type": "stream",
     "text": [
      "/home/harinaathan/PyWorkspace/LimeSDR4Edema/.venv\n"
     ]
    }
   ],
   "source": [
    "import sys\n",
    "print(sys.prefix)"
   ]
  },
  {
   "cell_type": "code",
   "execution_count": 5,
   "id": "0a896e31",
   "metadata": {},
   "outputs": [
    {
     "ename": "AttributeError",
     "evalue": "module 'SoapySDR' has no attribute 'getLoadedModules'",
     "output_type": "error",
     "traceback": [
      "\u001b[31m---------------------------------------------------------------------------\u001b[39m",
      "\u001b[31mAttributeError\u001b[39m                            Traceback (most recent call last)",
      "\u001b[36mCell\u001b[39m\u001b[36m \u001b[39m\u001b[32mIn[5]\u001b[39m\u001b[32m, line 1\u001b[39m\n\u001b[32m----> \u001b[39m\u001b[32m1\u001b[39m \u001b[38;5;28mprint\u001b[39m(\u001b[43mSoapySDR\u001b[49m\u001b[43m.\u001b[49m\u001b[43mgetLoadedModules\u001b[49m())\n",
      "\u001b[31mAttributeError\u001b[39m: module 'SoapySDR' has no attribute 'getLoadedModules'"
     ]
    }
   ],
   "source": [
    "print(SoapySDR.getLoadedModules())"
   ]
  },
  {
   "cell_type": "code",
   "execution_count": 1,
   "id": "28bf0e0c",
   "metadata": {},
   "outputs": [],
   "source": [
    "import SoapySDR\n",
    "from SoapySDR import * #SOAPY_SDR_ constants\n",
    "import numpy #use numpy for buffers\n"
   ]
  },
  {
   "cell_type": "code",
   "execution_count": 2,
   "id": "4a9d5146",
   "metadata": {},
   "outputs": [
    {
     "data": {
      "text/plain": [
       "()"
      ]
     },
     "execution_count": 2,
     "metadata": {},
     "output_type": "execute_result"
    }
   ],
   "source": [
    "SoapySDR.Device.enumerate()"
   ]
  },
  {
   "cell_type": "code",
   "execution_count": 4,
   "id": "43a25910",
   "metadata": {},
   "outputs": [
    {
     "name": "stdout",
     "output_type": "stream",
     "text": [
      "Found SDR devices:\n"
     ]
    }
   ],
   "source": [
    "import SoapySDR\n",
    "\n",
    "try:\n",
    "    devices = SoapySDR.Device.enumerate()\n",
    "    print(\"Found SDR devices:\")\n",
    "    for device in devices:\n",
    "        print(device)\n",
    "except Exception as e:\n",
    "    print(f\"Error enumerating devices: {e}\")"
   ]
  },
  {
   "cell_type": "code",
   "execution_count": null,
   "id": "6548f624",
   "metadata": {},
   "outputs": [],
   "source": [
    "\n",
    "#enumerate devices\n",
    "results = SoapySDR.Device.enumerate()\n",
    "for result in results: print(result)\n",
    "\n",
    "#create device instance\n",
    "#args can be user defined or from the enumeration result\n",
    "args = dict(driver=\"lime\",)  # Changed driver to \"lime\"\n",
    "try:\n",
    "    sdr = SoapySDR.Device(args)\n",
    "except SoapySDR.SDRDeviceError as e:\n",
    "    print(f\"Error creating device: {e}\")\n",
    "    exit()\n",
    "\n",
    "#query device info\n",
    "print(sdr.listAntennas(SOAPY_SDR_RX, 0))\n",
    "print(sdr.listGains(SOAPY_SDR_RX, 0))\n",
    "freqs = sdr.getFrequencyRange(SOAPY_SDR_RX, 0)\n",
    "for freqRange in freqs: print(freqRange)\n",
    "\n",
    "#apply settings\n",
    "sdr.setSampleRate(SOAPY_SDR_RX, 0, 1e6)\n",
    "sdr.setFrequency(SOAPY_SDR_RX, 0, 912.3e6)\n",
    "\n",
    "#setup a stream (complex floats)\n",
    "rxStream = sdr.setupStream(SOAPY_SDR_RX, SOAPY_SDR_CF32)\n",
    "sdr.activateStream(rxStream) #start streaming\n",
    "\n",
    "#create a re-usable buffer for rx samples\n",
    "buff = numpy.array([0]*1024, numpy.complex64)\n",
    "\n",
    "#receive some samples\n",
    "for i in range(10):\n",
    "    try:\n",
    "        sr = sdr.readStream(rxStream, [buff], len(buff))\n",
    "        print(sr.ret) #num samples or error code\n",
    "        print(sr.flags) #flags set by receive operation\n",
    "        print(sr.timeNs) #timestamp for receive buffer\n",
    "    except SoapySDR.SDRDeviceError as e:\n",
    "        print(f\"Error reading stream: {e}\")\n",
    "        break\n",
    "\n",
    "#shutdown the stream\n",
    "sdr.deactivateStream(rxStream) #stop streaming\n",
    "sdr.closeStream(rxStream)"
   ]
  },
  {
   "cell_type": "code",
   "execution_count": 4,
   "id": "95f84102",
   "metadata": {},
   "outputs": [
    {
     "name": "stdout",
     "output_type": "stream",
     "text": [
      "Collecting numpy\n",
      "  Using cached numpy-2.2.4-cp311-cp311-manylinux_2_17_x86_64.manylinux2014_x86_64.whl.metadata (62 kB)\n",
      "Using cached numpy-2.2.4-cp311-cp311-manylinux_2_17_x86_64.manylinux2014_x86_64.whl (16.4 MB)\n",
      "Installing collected packages: numpy\n",
      "Successfully installed numpy-2.2.4\n",
      "Note: you may need to restart the kernel to use updated packages.\n"
     ]
    }
   ],
   "source": [
    "pip install numpy"
   ]
  },
  {
   "cell_type": "code",
   "execution_count": 2,
   "id": "54e14493",
   "metadata": {},
   "outputs": [],
   "source": [
    "import pyLMS7002Soapy as lms"
   ]
  },
  {
   "cell_type": "code",
   "execution_count": 5,
   "id": "60359eae",
   "metadata": {},
   "outputs": [
    {
     "ename": "AttributeError",
     "evalue": "module 'pyLMS7002Soapy' has no attribute 'testSignalDC'",
     "output_type": "error",
     "traceback": [
      "\u001b[31m---------------------------------------------------------------------------\u001b[39m",
      "\u001b[31mAttributeError\u001b[39m                            Traceback (most recent call last)",
      "\u001b[36mCell\u001b[39m\u001b[36m \u001b[39m\u001b[32mIn[5]\u001b[39m\u001b[32m, line 1\u001b[39m\n\u001b[32m----> \u001b[39m\u001b[32m1\u001b[39m \u001b[43mlms\u001b[49m\u001b[43m.\u001b[49m\u001b[43mtestSignalDC\u001b[49m(\u001b[32m25\u001b[39m,\u001b[32m50\u001b[39m)\n",
      "\u001b[31mAttributeError\u001b[39m: module 'pyLMS7002Soapy' has no attribute 'testSignalDC'"
     ]
    }
   ],
   "source": [
    "lms.testSignalDC(25,50)"
   ]
  },
  {
   "cell_type": "code",
   "execution_count": 2,
   "id": "f5ed20ed",
   "metadata": {},
   "outputs": [
    {
     "ename": "ModuleNotFoundError",
     "evalue": "No module named 'SoapySDR'",
     "output_type": "error",
     "traceback": [
      "\u001b[31m---------------------------------------------------------------------------\u001b[39m",
      "\u001b[31mModuleNotFoundError\u001b[39m                       Traceback (most recent call last)",
      "\u001b[36mCell\u001b[39m\u001b[36m \u001b[39m\u001b[32mIn[2]\u001b[39m\u001b[32m, line 1\u001b[39m\n\u001b[32m----> \u001b[39m\u001b[32m1\u001b[39m \u001b[38;5;28;01mimport\u001b[39;00m\u001b[38;5;250m \u001b[39m\u001b[34;01msimplesoapy\u001b[39;00m\n\u001b[32m      2\u001b[39m \u001b[38;5;28;01mimport\u001b[39;00m\u001b[38;5;250m \u001b[39m\u001b[34;01mnumpy\u001b[39;00m\n\u001b[32m      4\u001b[39m \u001b[38;5;66;03m# List all connected SoapySDR devices\u001b[39;00m\n",
      "\u001b[36mFile \u001b[39m\u001b[32m~/PyWorkspace/LimeSDR4Edema/.limeEnv/lib/python3.11/site-packages/simplesoapy.py:5\u001b[39m\n\u001b[32m      1\u001b[39m \u001b[38;5;66;03m#!/usr/bin/env python3\u001b[39;00m\n\u001b[32m      3\u001b[39m \u001b[38;5;28;01mimport\u001b[39;00m\u001b[38;5;250m \u001b[39m\u001b[34;01msys\u001b[39;00m,\u001b[38;5;250m \u001b[39m\u001b[34;01mmath\u001b[39;00m,\u001b[38;5;250m \u001b[39m\u001b[34;01mlogging\u001b[39;00m,\u001b[38;5;250m \u001b[39m\u001b[34;01mcollections\u001b[39;00m,\u001b[38;5;250m \u001b[39m\u001b[34;01mcollections\u001b[39;00m\u001b[34;01m.\u001b[39;00m\u001b[34;01mabc\u001b[39;00m,\u001b[38;5;250m \u001b[39m\u001b[34;01mitertools\u001b[39;00m\n\u001b[32m----> \u001b[39m\u001b[32m5\u001b[39m \u001b[38;5;28;01mimport\u001b[39;00m\u001b[38;5;250m \u001b[39m\u001b[34;01mSoapySDR\u001b[39;00m\n\u001b[32m      6\u001b[39m \u001b[38;5;28;01mimport\u001b[39;00m\u001b[38;5;250m \u001b[39m\u001b[34;01mnumpy\u001b[39;00m\n\u001b[32m      8\u001b[39m __version__ = \u001b[33m'\u001b[39m\u001b[33m1.5.1\u001b[39m\u001b[33m'\u001b[39m\n",
      "\u001b[31mModuleNotFoundError\u001b[39m: No module named 'SoapySDR'"
     ]
    }
   ],
   "source": [
    "import simplesoapy\n",
    "import numpy\n",
    "\n",
    "# List all connected SoapySDR devices\n",
    "print(simplesoapy.detect_devices(as_string=True))\n",
    "\n",
    "# Initialize SDR device\n",
    "sdr = simplesoapy.SoapyDevice('driver=rtlsdr')\n",
    "\n",
    "# Set sample rate\n",
    "sdr.sample_rate = 2.56e6\n",
    "\n",
    "# Set center frequency\n",
    "sdr.freq = 88e6\n",
    "\n",
    "# Setup base buffer and start receiving samples. Base buffer size is determined\n",
    "# by SoapySDR.Device.getStreamMTU(). If getStreamMTU() is not implemented by driver,\n",
    "# SoapyDevice.default_buffer_size is used instead\n",
    "sdr.start_stream()\n",
    "\n",
    "# Create numpy array for received samples\n",
    "samples = numpy.empty(len(sdr.buffer) * 100, numpy.complex64)\n",
    "\n",
    "# Receive all samples\n",
    "sdr.read_stream_into_buffer(samples)\n",
    "\n",
    "# Stop receiving\n",
    "sdr.stop_stream()"
   ]
  }
 ],
 "metadata": {
  "kernelspec": {
   "display_name": ".venv",
   "language": "python",
   "name": "python3"
  },
  "language_info": {
   "codemirror_mode": {
    "name": "ipython",
    "version": 3
   },
   "file_extension": ".py",
   "mimetype": "text/x-python",
   "name": "python",
   "nbconvert_exporter": "python",
   "pygments_lexer": "ipython3",
   "version": "3.12.3"
  }
 },
 "nbformat": 4,
 "nbformat_minor": 5
}
